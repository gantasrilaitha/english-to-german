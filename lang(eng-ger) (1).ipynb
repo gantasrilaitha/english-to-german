{
 "cells": [
  {
   "cell_type": "code",
   "execution_count": 2,
   "id": "ceca3c0c",
   "metadata": {},
   "outputs": [],
   "source": [
    "import string\n",
    "import re\n",
    "from numpy import array,argmax,random,take\n",
    "import pandas as pd\n",
    "'''from keras.models import Sequential\n",
    "from keras.layers import Dense,LSTM,Embedding,Bidirectional,RepeatVector,TimeDistributed\n",
    "from keras.preprocessing.text import Tokenizer\n",
    "from keras.callbacks import ModelCheckpoint\n",
    "from keras.preprocessing.sequence import pad_sequences\n",
    "from keras.models import load_model\n",
    "from keras import optimizers\n",
    "import matplotlib.pyplot as plt'''\n",
    "\n",
    "\n",
    "%matplotlib inline\n",
    "pd.set_option('display.max_colwidth',200)\n",
    "\n"
   ]
  },
  {
   "cell_type": "code",
   "execution_count": 5,
   "id": "f41e0b36",
   "metadata": {},
   "outputs": [],
   "source": [
    "\n",
    "filename='deu.txt'\n",
    "def read_text(filename):\n",
    "    file=open(filename,mode='rt',encoding='utf-8')\n",
    "    text=file.read()\n",
    "    file.close()\n",
    "    return text"
   ]
  },
  {
   "cell_type": "code",
   "execution_count": 6,
   "id": "7a1c8223",
   "metadata": {},
   "outputs": [],
   "source": [
    "def to_lines(text):\n",
    "    sents=text.strip().split('\\n')\n",
    "    sents=[i.split('\\t') for i in sents]\n",
    "    return sents"
   ]
  },
  {
   "cell_type": "code",
   "execution_count": 4,
   "id": "89718880",
   "metadata": {},
   "outputs": [
    {
     "name": "stdout",
     "output_type": "stream",
     "text": [
      "[['Go.' 'Geh.'\n",
      "  'CC-BY 2.0 (France) Attribution: tatoeba.org #2877272 (CM) & #8597805 (Roujin)']\n",
      " ['Hi.' 'Hallo!'\n",
      "  'CC-BY 2.0 (France) Attribution: tatoeba.org #538123 (CM) & #380701 (cburgmer)']\n",
      " ['Hi.' 'Grüß Gott!'\n",
      "  'CC-BY 2.0 (France) Attribution: tatoeba.org #538123 (CM) & #659813 (Esperantostern)']\n",
      " ...\n",
      " ['Tom is immature.' 'Tom ist unreif.'\n",
      "  'CC-BY 2.0 (France) Attribution: tatoeba.org #2202969 (CK) & #6615179 (Felixjp)']\n",
      " ['Tom is immobile.' 'Tom ist unbeweglich.'\n",
      "  'CC-BY 2.0 (France) Attribution: tatoeba.org #2236727 (CK) & #6615183 (Felixjp)']\n",
      " ['Tom is impolite.' 'Tom ist unhöflich.'\n",
      "  'CC-BY 2.0 (France) Attribution: tatoeba.org #2202979 (CK) & #3362571 (Pfirsichbaeumchen)']]\n"
     ]
    }
   ],
   "source": [
    "data=read_text(filename)\n",
    "deu_eng=to_lines(data)\n",
    "deu_eng=array(deu_eng)\n",
    "deu_eng=deu_eng[:15000,:]\n",
    "\n",
    "print(deu_eng)"
   ]
  },
  {
   "cell_type": "code",
   "execution_count": 5,
   "id": "0f6b542a",
   "metadata": {},
   "outputs": [
    {
     "data": {
      "image/png": "[encoded data removed]",
      "text/plain": [
       "<Figure size 432x288 with 2 Axes>"
      ]
     },
     "metadata": {
      "needs_background": "light"
     },
     "output_type": "display_data"
    }
   ],
   "source": [
    "eng_l=[];deu_l=[]\n",
    "for i in deu_eng[:,0]:\n",
    "    eng_l.append(len(i.split()))\n",
    "for i in deu_eng[:,1]:\n",
    "    deu_l.append(len(i.split()))\n",
    "length_df=pd.DataFrame({'eng':eng_l,'deu':deu_l})\n",
    "length_df.hist(bins=30)\n",
    "plt.show()"
   ]
  },
  {
   "cell_type": "code",
   "execution_count": 6,
   "id": "6cd72442",
   "metadata": {},
   "outputs": [
    {
     "name": "stdout",
     "output_type": "stream",
     "text": [
      "English vocabulary size :2957\n",
      "Deutch vocabulary size :4708\n"
     ]
    }
   ],
   "source": [
    "def tokenization(lines):\n",
    "    tokenizer=Tokenizer()\n",
    "    tokenizer.fit_on_texts(lines)\n",
    "    return tokenizer\n",
    "eng_tokenizer=tokenization(deu_eng[:,0])\n",
    "eng_vocab_size=len(eng_tokenizer.word_index)+1\n",
    "eng_length=8\n",
    "print('English vocabulary size :%d' %eng_vocab_size)\n",
    "deu_tokenizer=tokenization(deu_eng[:,1])\n",
    "deu_vocab_size=len(deu_tokenizer.word_index)+1\n",
    "deu_length=8\n",
    "print('Deutch vocabulary size :%d' %deu_vocab_size)"
   ]
  },
  {
   "cell_type": "code",
   "execution_count": 7,
   "id": "c38b8cd0",
   "metadata": {},
   "outputs": [],
   "source": [
    "def encode_sequences(tokenizer,length,lines):\n",
    "    seq=tokenizer.texts_to_sequences(lines)\n",
    "    seq=pad_sequences(seq,maxlen=length,padding='post')\n",
    "    return seq\n"
   ]
  },
  {
   "cell_type": "code",
   "execution_count": 8,
   "id": "62226278",
   "metadata": {},
   "outputs": [],
   "source": [
    "#!pip install sklearn\n",
    "#import sklearn as sk\n",
    "from sklearn.model_selection import train_test_split\n",
    "train,test=train_test_split(deu_eng,test_size=0.2,random_state=12)\n",
    "trainX=encode_sequences(deu_tokenizer,deu_length,test[:,1])\n",
    "trainY=encode_sequences(eng_tokenizer,eng_length,test[:,0])\n",
    "testX=encode_sequences(deu_tokenizer,deu_length,train[:,1])\n",
    "testY=encode_sequences(eng_tokenizer,eng_length,train[:,0])"
   ]
  },
  {
   "cell_type": "code",
   "execution_count": 9,
   "id": "cbbcca81",
   "metadata": {},
   "outputs": [],
   "source": [
    "def build_model(in_vocab,out_vocab,in_timesteps,out_timesteps,units):\n",
    "    model=Sequential()\n",
    "    model.add(Embedding(in_vocab,units,input_length=in_timesteps,mask_zero=True))\n",
    "    model.add(LSTM(units))\n",
    "    model.add(RepeatVector(out_timesteps))\n",
    "    model.add(LSTM(units,return_sequences=True))\n",
    "    model.add(Dense(out_vocab,activation='softmax'))\n",
    "    return model\n",
    "    "
   ]
  },
  {
   "cell_type": "code",
   "execution_count": 10,
   "id": "cf46ef11",
   "metadata": {},
   "outputs": [],
   "source": [
    "from tensorflow import keras\n",
    "from keras import optimizers\n",
    "model=build_model(deu_vocab_size,eng_vocab_size,deu_length,eng_length,512)\n",
    "rms=keras.optimizers.RMSprop(learning_rate=0.001)\n",
    "model.compile(optimizer=rms,loss='sparse_categorical_crossentropy')"
   ]
  },
  {
   "cell_type": "code",
   "execution_count": 11,
   "id": "e1add54b",
   "metadata": {},
   "outputs": [
    {
     "name": "stdout",
     "output_type": "stream",
     "text": [
      "Epoch 1/5\n",
      "5/5 [==============================] - 32s 3s/step - loss: 6.0667 - val_loss: 3.0230\n",
      "\n",
      "Epoch 00001: val_loss improved from inf to 3.02296, saving model to model.h1.24_srilallitha\n"
     ]
    },
    {
     "name": "stderr",
     "output_type": "stream",
     "text": [
      "WARNING:absl:Found untraced functions such as lstm_cell_layer_call_and_return_conditional_losses, lstm_cell_layer_call_fn, lstm_cell_1_layer_call_and_return_conditional_losses, lstm_cell_1_layer_call_fn, lstm_cell_layer_call_fn while saving (showing 5 of 10). These functions will not be directly callable after loading.\n"
     ]
    },
    {
     "name": "stdout",
     "output_type": "stream",
     "text": [
      "INFO:tensorflow:Assets written to: model.h1.24_srilallitha\\assets\n"
     ]
    },
    {
     "name": "stderr",
     "output_type": "stream",
     "text": [
      "INFO:tensorflow:Assets written to: model.h1.24_srilallitha\\assets\n"
     ]
    },
    {
     "name": "stdout",
     "output_type": "stream",
     "text": [
      "Epoch 2/5\n",
      "5/5 [==============================] - 9s 2s/step - loss: 2.8346 - val_loss: 2.7849\n",
      "\n",
      "Epoch 00002: val_loss improved from 3.02296 to 2.78488, saving model to model.h1.24_srilallitha\n"
     ]
    },
    {
     "name": "stderr",
     "output_type": "stream",
     "text": [
      "WARNING:absl:Found untraced functions such as lstm_cell_layer_call_and_return_conditional_losses, lstm_cell_layer_call_fn, lstm_cell_1_layer_call_and_return_conditional_losses, lstm_cell_1_layer_call_fn, lstm_cell_layer_call_fn while saving (showing 5 of 10). These functions will not be directly callable after loading.\n"
     ]
    },
    {
     "name": "stdout",
     "output_type": "stream",
     "text": [
      "INFO:tensorflow:Assets written to: model.h1.24_srilallitha\\assets\n"
     ]
    },
    {
     "name": "stderr",
     "output_type": "stream",
     "text": [
      "INFO:tensorflow:Assets written to: model.h1.24_srilallitha\\assets\n"
     ]
    },
    {
     "name": "stdout",
     "output_type": "stream",
     "text": [
      "Epoch 3/5\n",
      "5/5 [==============================] - 9s 2s/step - loss: 2.6466 - val_loss: 2.6180\n",
      "\n",
      "Epoch 00003: val_loss improved from 2.78488 to 2.61805, saving model to model.h1.24_srilallitha\n"
     ]
    },
    {
     "name": "stderr",
     "output_type": "stream",
     "text": [
      "WARNING:absl:Found untraced functions such as lstm_cell_layer_call_and_return_conditional_losses, lstm_cell_layer_call_fn, lstm_cell_1_layer_call_and_return_conditional_losses, lstm_cell_1_layer_call_fn, lstm_cell_layer_call_fn while saving (showing 5 of 10). These functions will not be directly callable after loading.\n"
     ]
    },
    {
     "name": "stdout",
     "output_type": "stream",
     "text": [
      "INFO:tensorflow:Assets written to: model.h1.24_srilallitha\\assets\n"
     ]
    },
    {
     "name": "stderr",
     "output_type": "stream",
     "text": [
      "INFO:tensorflow:Assets written to: model.h1.24_srilallitha\\assets\n"
     ]
    },
    {
     "name": "stdout",
     "output_type": "stream",
     "text": [
      "Epoch 4/5\n",
      "5/5 [==============================] - 10s 2s/step - loss: 2.5550 - val_loss: 2.6031\n",
      "\n",
      "Epoch 00004: val_loss improved from 2.61805 to 2.60315, saving model to model.h1.24_srilallitha\n"
     ]
    },
    {
     "name": "stderr",
     "output_type": "stream",
     "text": [
      "WARNING:absl:Found untraced functions such as lstm_cell_layer_call_and_return_conditional_losses, lstm_cell_layer_call_fn, lstm_cell_1_layer_call_and_return_conditional_losses, lstm_cell_1_layer_call_fn, lstm_cell_layer_call_fn while saving (showing 5 of 10). These functions will not be directly callable after loading.\n"
     ]
    },
    {
     "name": "stdout",
     "output_type": "stream",
     "text": [
      "INFO:tensorflow:Assets written to: model.h1.24_srilallitha\\assets\n"
     ]
    },
    {
     "name": "stderr",
     "output_type": "stream",
     "text": [
      "INFO:tensorflow:Assets written to: model.h1.24_srilallitha\\assets\n"
     ]
    },
    {
     "name": "stdout",
     "output_type": "stream",
     "text": [
      "Epoch 5/5\n",
      "5/5 [==============================] - 9s 2s/step - loss: 2.3268 - val_loss: 2.4350\n",
      "\n",
      "Epoch 00005: val_loss improved from 2.60315 to 2.43501, saving model to model.h1.24_srilallitha\n"
     ]
    },
    {
     "name": "stderr",
     "output_type": "stream",
     "text": [
      "WARNING:absl:Found untraced functions such as lstm_cell_layer_call_and_return_conditional_losses, lstm_cell_layer_call_fn, lstm_cell_1_layer_call_and_return_conditional_losses, lstm_cell_1_layer_call_fn, lstm_cell_layer_call_fn while saving (showing 5 of 10). These functions will not be directly callable after loading.\n"
     ]
    },
    {
     "name": "stdout",
     "output_type": "stream",
     "text": [
      "INFO:tensorflow:Assets written to: model.h1.24_srilallitha\\assets\n"
     ]
    },
    {
     "name": "stderr",
     "output_type": "stream",
     "text": [
      "INFO:tensorflow:Assets written to: model.h1.24_srilallitha\\assets\n"
     ]
    }
   ],
   "source": [
    "filename='model.h1.24_srilallitha'\n",
    "checkpoint=ModelCheckpoint(filename,monitor='val_loss',verbose=1,save_best_only=True,mode='min')\n",
    "\n",
    "history=model.fit(trainX,trainY.reshape(trainY.shape[0],trainY.shape[1],1),\n",
    "                  epochs=5,batch_size=512,validation_split=0.2,callbacks=[checkpoint],verbose=1)"
   ]
  },
  {
   "cell_type": "code",
   "execution_count": 12,
   "id": "451565bd",
   "metadata": {},
   "outputs": [
    {
     "data": {
      "image/png": "[encoded data removed]",
      "text/plain": [
       "<Figure size 432x288 with 1 Axes>"
      ]
     },
     "metadata": {
      "needs_background": "light"
     },
     "output_type": "display_data"
    }
   ],
   "source": [
    "plt.plot(history.history['loss'])\n",
    "plt.plot(history.history['val_loss'])\n",
    "plt.legend(['train','validation'])\n",
    "plt.show()\n"
   ]
  },
  {
   "cell_type": "code",
   "execution_count": 13,
   "id": "c6c24881",
   "metadata": {},
   "outputs": [],
   "source": [
    "model=load_model('model.h1.24_srilallitha')\n",
    "preds=(model.predict(testX.reshape(testX.shape[0],testX.shape[1]))>0.5).astype('int32')"
   ]
  },
  {
   "cell_type": "code",
   "execution_count": 14,
   "id": "cb607e11",
   "metadata": {},
   "outputs": [],
   "source": [
    "def get_word(n,tokenizer):\n",
    "    for word, index in tokenizer.word_index.items():\n",
    "        if (index==n).any():\n",
    "            return word\n",
    "    return None"
   ]
  },
  {
   "cell_type": "code",
   "execution_count": 15,
   "id": "9bdd27b2",
   "metadata": {},
   "outputs": [],
   "source": [
    "import numpy as np\n",
    "preds_text=[]\n",
    "for i in preds:\n",
    "    temp=[]\n",
    "    for j in range(len(i)):\n",
    "        t=get_word(i[j],eng_tokenizer)\n",
    "        if j>0:\n",
    "            if np.logical_or(t==get_word(i[j-1], eng_tokenizer),t==None):\n",
    "                temp.append('')\n",
    "            else:\n",
    "                temp.append(t)\n",
    "        else:\n",
    "            if (t==None):\n",
    "                temp.append('')\n",
    "            else:\n",
    "                temp.append(t)\n",
    "    preds_text.append(''.join(temp))\n",
    "    "
   ]
  },
  {
   "cell_type": "code",
   "execution_count": 16,
   "id": "b9b27612",
   "metadata": {},
   "outputs": [],
   "source": [
    "a={'actual':test[:,0],'predicted':preds_text}\n",
    "pred_df=pd.DataFrame.from_dict(a,orient='index')\n",
    "pred_df=pred_df.transpose()"
   ]
  },
  {
   "cell_type": "code",
   "execution_count": 17,
   "id": "ea5aea9a",
   "metadata": {},
   "outputs": [],
   "source": [
    "pd.set_option('display.max_colwidth',200)"
   ]
  },
  {
   "cell_type": "code",
   "execution_count": 18,
   "id": "064c78eb",
   "metadata": {},
   "outputs": [
    {
     "data": {
      "text/html": [
       "<div>\n",
       "<style scoped>\n",
       "    .dataframe tbody tr th:only-of-type {\n",
       "        vertical-align: middle;\n",
       "    }\n",
       "\n",
       "    .dataframe tbody tr th {\n",
       "        vertical-align: top;\n",
       "    }\n",
       "\n",
       "    .dataframe thead th {\n",
       "        text-align: right;\n",
       "    }\n",
       "</style>\n",
       "<table border=\"1\" class=\"dataframe\">\n",
       "  <thead>\n",
       "    <tr style=\"text-align: right;\">\n",
       "      <th></th>\n",
       "      <th>actual</th>\n",
       "      <th>predicted</th>\n",
       "    </tr>\n",
       "  </thead>\n",
       "  <tbody>\n",
       "    <tr>\n",
       "      <th>0</th>\n",
       "      <td>I feel weak.</td>\n",
       "      <td>tom</td>\n",
       "    </tr>\n",
       "    <tr>\n",
       "      <th>1</th>\n",
       "      <td>I love your cat.</td>\n",
       "      <td>tom</td>\n",
       "    </tr>\n",
       "    <tr>\n",
       "      <th>2</th>\n",
       "      <td>Tom is sweet.</td>\n",
       "      <td>tom</td>\n",
       "    </tr>\n",
       "    <tr>\n",
       "      <th>3</th>\n",
       "      <td>I'll be going.</td>\n",
       "      <td>tom</td>\n",
       "    </tr>\n",
       "    <tr>\n",
       "      <th>4</th>\n",
       "      <td>Is this it?</td>\n",
       "      <td>tom</td>\n",
       "    </tr>\n",
       "    <tr>\n",
       "      <th>5</th>\n",
       "      <td>Don't leave us.</td>\n",
       "      <td>tom</td>\n",
       "    </tr>\n",
       "    <tr>\n",
       "      <th>6</th>\n",
       "      <td>Form two lines.</td>\n",
       "      <td>tom</td>\n",
       "    </tr>\n",
       "    <tr>\n",
       "      <th>7</th>\n",
       "      <td>He's studying.</td>\n",
       "      <td>tom</td>\n",
       "    </tr>\n",
       "    <tr>\n",
       "      <th>8</th>\n",
       "      <td>You're good.</td>\n",
       "      <td>tom</td>\n",
       "    </tr>\n",
       "    <tr>\n",
       "      <th>9</th>\n",
       "      <td>Are you curious?</td>\n",
       "      <td>tom</td>\n",
       "    </tr>\n",
       "  </tbody>\n",
       "</table>\n",
       "</div>"
      ],
      "text/plain": [
       "             actual predicted\n",
       "0      I feel weak.       tom\n",
       "1  I love your cat.       tom\n",
       "2     Tom is sweet.       tom\n",
       "3    I'll be going.       tom\n",
       "4       Is this it?       tom\n",
       "5   Don't leave us.       tom\n",
       "6   Form two lines.       tom\n",
       "7    He's studying.       tom\n",
       "8      You're good.       tom\n",
       "9  Are you curious?       tom"
      ]
     },
     "execution_count": 18,
     "metadata": {},
     "output_type": "execute_result"
    }
   ],
   "source": [
    "pred_df.head(10)"
   ]
  },
  {
   "cell_type": "code",
   "execution_count": 19,
   "id": "030bcdce",
   "metadata": {},
   "outputs": [
    {
     "data": {
      "text/html": [
       "<div>\n",
       "<style scoped>\n",
       "    .dataframe tbody tr th:only-of-type {\n",
       "        vertical-align: middle;\n",
       "    }\n",
       "\n",
       "    .dataframe tbody tr th {\n",
       "        vertical-align: top;\n",
       "    }\n",
       "\n",
       "    .dataframe thead th {\n",
       "        text-align: right;\n",
       "    }\n",
       "</style>\n",
       "<table border=\"1\" class=\"dataframe\">\n",
       "  <thead>\n",
       "    <tr style=\"text-align: right;\">\n",
       "      <th></th>\n",
       "      <th>actual</th>\n",
       "      <th>predicted</th>\n",
       "    </tr>\n",
       "  </thead>\n",
       "  <tbody>\n",
       "    <tr>\n",
       "      <th>11990</th>\n",
       "      <td>None</td>\n",
       "      <td>tom</td>\n",
       "    </tr>\n",
       "    <tr>\n",
       "      <th>11991</th>\n",
       "      <td>None</td>\n",
       "      <td>tom</td>\n",
       "    </tr>\n",
       "    <tr>\n",
       "      <th>11992</th>\n",
       "      <td>None</td>\n",
       "      <td>tom</td>\n",
       "    </tr>\n",
       "    <tr>\n",
       "      <th>11993</th>\n",
       "      <td>None</td>\n",
       "      <td>tom</td>\n",
       "    </tr>\n",
       "    <tr>\n",
       "      <th>11994</th>\n",
       "      <td>None</td>\n",
       "      <td>tom</td>\n",
       "    </tr>\n",
       "    <tr>\n",
       "      <th>11995</th>\n",
       "      <td>None</td>\n",
       "      <td>tom</td>\n",
       "    </tr>\n",
       "    <tr>\n",
       "      <th>11996</th>\n",
       "      <td>None</td>\n",
       "      <td>tom</td>\n",
       "    </tr>\n",
       "    <tr>\n",
       "      <th>11997</th>\n",
       "      <td>None</td>\n",
       "      <td>tom</td>\n",
       "    </tr>\n",
       "    <tr>\n",
       "      <th>11998</th>\n",
       "      <td>None</td>\n",
       "      <td>tom</td>\n",
       "    </tr>\n",
       "    <tr>\n",
       "      <th>11999</th>\n",
       "      <td>None</td>\n",
       "      <td>tom</td>\n",
       "    </tr>\n",
       "  </tbody>\n",
       "</table>\n",
       "</div>"
      ],
      "text/plain": [
       "      actual predicted\n",
       "11990   None       tom\n",
       "11991   None       tom\n",
       "11992   None       tom\n",
       "11993   None       tom\n",
       "11994   None       tom\n",
       "11995   None       tom\n",
       "11996   None       tom\n",
       "11997   None       tom\n",
       "11998   None       tom\n",
       "11999   None       tom"
      ]
     },
     "execution_count": 19,
     "metadata": {},
     "output_type": "execute_result"
    }
   ],
   "source": [
    "pred_df.tail(10)"
   ]
  },
  {
   "cell_type": "code",
   "execution_count": null,
   "id": "f72ce5c6",
   "metadata": {},
   "outputs": [],
   "source": []
  }
 ],
 "metadata": {
  "kernelspec": {
   "display_name": "Python 3 (ipykernel)",
   "language": "python",
   "name": "python3"
  },
  "language_info": {
   "codemirror_mode": {
    "name": "ipython",
    "version": 3
   },
   "file_extension": ".py",
   "mimetype": "text/x-python",
   "name": "python",
   "nbconvert_exporter": "python",
   "pygments_lexer": "ipython3",
   "version": "3.9.13"
  }
 },
 "nbformat": 4,
 "nbformat_minor": 5
}
